{
 "cells": [
  {
   "cell_type": "markdown",
   "metadata": {},
   "source": [
    "# Los Angeles County Health Inpections\n"
   ]
  },
  {
   "cell_type": "code",
   "execution_count": 1,
   "metadata": {},
   "outputs": [],
   "source": [
    "# Import all libraries needed for this report\n",
    "import pandas as pd\n",
    "import numpy as np\n",
    "import matplotlib.pyplot as plt\n",
    "\n",
    "# Enable inline plotting\n",
    "%matplotlib inline "
   ]
  },
  {
   "cell_type": "markdown",
   "metadata": {},
   "source": [
    "## Dataset Description\n"
   ]
  },
  {
   "cell_type": "markdown",
   "metadata": {},
   "source": [
    "The dataset I chose comes from the Los Angeles County Environmental Health Department. They are responsible for inspecting restaurants in Los Angeles County, California, with the exception of the cities of Pasadena, Long Beach, and Vernon, which have their own enforcement teams. I chose to include two files that were available on Kaggle.\n",
    "\n",
    "The `inspections.csv` file gives information on each inspection that was done, and the `violations.csv` lists specific violations on each inspections. Let's take a look at what these files contain."
   ]
  },
  {
   "cell_type": "code",
   "execution_count": 2,
   "metadata": {},
   "outputs": [],
   "source": [
    "inspect_df = pd.read_csv('inspections.csv')\n",
    "violations_df = pd.read_csv('violations.csv')"
   ]
  },
  {
   "cell_type": "markdown",
   "metadata": {},
   "source": [
    "### Inpections file\n",
    "The `inpspections.csv` file has twenty columns. Many relate to identifying the restaurant, such as the name and address columns, others to the inspection, such as the serial number and score. There are 191371 rows. \"Score\" is one of the main things will be looking at. Scores have a maximum of 100, and are given grades based on those scores. (A is 90-100, B is 80-89, C is 70-79) With a mean of 93.75 and a standard deviation of 3.84, it is pretty clear that scores tend toward the high side. \n",
    "\n",
    "A count of the grades backs this up, with a vast majority of inspections resulting in an 'A.' Great news! If you go to a restaurant in LA County, it probably got an 'A' on it's inspection. Now this isn't too shocking. Since this list includes multiple inspections for many restaurants, the good ones will stay around longer, and will inflate the higher score number. Also, since low scores can destroy a restaurant's reputaion, one would expect that restaurants owners would work for high scores. Restaurants with a score lowever than 70 received no grade. Thankfully, this happened only 32 times in over 191,000 inspections"
   ]
  },
  {
   "cell_type": "markdown",
   "metadata": {},
   "source": [
    "Here are the columns in the Inspections file. The main columns we'll be looking at are score and grade. The serial number will be used to merge this inspections with their associated violations."
   ]
  },
  {
   "cell_type": "code",
   "execution_count": 3,
   "metadata": {},
   "outputs": [
    {
     "data": {
      "text/plain": [
       "Index(['activity_date', 'employee_id', 'facility_address', 'facility_city',\n",
       "       'facility_id', 'facility_name', 'facility_state', 'facility_zip',\n",
       "       'grade', 'owner_id', 'owner_name', 'pe_description',\n",
       "       'program_element_pe', 'program_name', 'program_status', 'record_id',\n",
       "       'score', 'serial_number', 'service_code', 'service_description'],\n",
       "      dtype='object')"
      ]
     },
     "execution_count": 3,
     "metadata": {},
     "output_type": "execute_result"
    }
   ],
   "source": [
    "inspect_df.columns"
   ]
  },
  {
   "cell_type": "markdown",
   "metadata": {},
   "source": [
    "The scores of the inspections are descirbed below."
   ]
  },
  {
   "cell_type": "code",
   "execution_count": 4,
   "metadata": {},
   "outputs": [
    {
     "data": {
      "text/plain": [
       "count    191371.000000\n",
       "mean         93.753306\n",
       "std           3.845518\n",
       "min          54.000000\n",
       "25%          91.000000\n",
       "50%          94.000000\n",
       "75%          97.000000\n",
       "max         100.000000\n",
       "Name: score, dtype: float64"
      ]
     },
     "execution_count": 4,
     "metadata": {},
     "output_type": "execute_result"
    }
   ],
   "source": [
    "inspect_df.score.describe()"
   ]
  },
  {
   "cell_type": "markdown",
   "metadata": {},
   "source": [
    "Here we see the grades of all the inspections in the data set."
   ]
  },
  {
   "cell_type": "code",
   "execution_count": 5,
   "metadata": {},
   "outputs": [
    {
     "data": {
      "image/png": "[encoded data removed]",
      "text/plain": [
       "<Figure size 432x288 with 1 Axes>"
      ]
     },
     "metadata": {},
     "output_type": "display_data"
    },
    {
     "name": "stdout",
     "output_type": "stream",
     "text": [
      "A    181278\n",
      "B      9379\n",
      "C       682\n",
      "         32\n",
      "Name: grade, dtype: int64\n"
     ]
    }
   ],
   "source": [
    "# inspect_df['grade'].value_counts().plot(kind = 'bar')\n",
    "inspect_df['grade'].value_counts().plot(kind = 'bar')\n",
    "plt.xlabel('Grade')\n",
    "plt.ylabel('Count')\n",
    "plt.title('Grade Count')\n",
    "plt.show()\n",
    "\n",
    "print(inspect_df['grade'].value_counts())"
   ]
  },
  {
   "cell_type": "markdown",
   "metadata": {},
   "source": [
    "There were some inspections that did not receive a grade because they received a grade lower than 70 points. "
   ]
  },
  {
   "cell_type": "code",
   "execution_count": 6,
   "metadata": {},
   "outputs": [
    {
     "data": {
      "text/plain": [
       "32"
      ]
     },
     "execution_count": 6,
     "metadata": {},
     "output_type": "execute_result"
    }
   ],
   "source": [
    "inspect_df[inspect_df['grade'] == ' '].score.count()"
   ]
  },
  {
   "cell_type": "markdown",
   "metadata": {},
   "source": [
    "### Violations file\n",
    "\n",
    "This file is a little simpler, as is just a list of accured violations. We will use it to see what the inspections actually turned up. The one quantitative column is \"points.\" This is how much the restaurant was penalized for each violation. With a mean of 1.33 and a standard deviaion of 0.8, it looks like most violations are relatively minor. The max violation is 11 points. We'll take a look at this later in the report."
   ]
  },
  {
   "cell_type": "code",
   "execution_count": 7,
   "metadata": {},
   "outputs": [
    {
     "data": {
      "text/html": [
       "<div>\n",
       "<style scoped>\n",
       "    .dataframe tbody tr th:only-of-type {\n",
       "        vertical-align: middle;\n",
       "    }\n",
       "\n",
       "    .dataframe tbody tr th {\n",
       "        vertical-align: top;\n",
       "    }\n",
       "\n",
       "    .dataframe thead th {\n",
       "        text-align: right;\n",
       "    }\n",
       "</style>\n",
       "<table border=\"1\" class=\"dataframe\">\n",
       "  <thead>\n",
       "    <tr style=\"text-align: right;\">\n",
       "      <th></th>\n",
       "      <th>points</th>\n",
       "    </tr>\n",
       "  </thead>\n",
       "  <tbody>\n",
       "    <tr>\n",
       "      <th>count</th>\n",
       "      <td>906014.000000</td>\n",
       "    </tr>\n",
       "    <tr>\n",
       "      <th>mean</th>\n",
       "      <td>1.331127</td>\n",
       "    </tr>\n",
       "    <tr>\n",
       "      <th>std</th>\n",
       "      <td>0.807775</td>\n",
       "    </tr>\n",
       "    <tr>\n",
       "      <th>min</th>\n",
       "      <td>0.000000</td>\n",
       "    </tr>\n",
       "    <tr>\n",
       "      <th>25%</th>\n",
       "      <td>1.000000</td>\n",
       "    </tr>\n",
       "    <tr>\n",
       "      <th>50%</th>\n",
       "      <td>1.000000</td>\n",
       "    </tr>\n",
       "    <tr>\n",
       "      <th>75%</th>\n",
       "      <td>1.000000</td>\n",
       "    </tr>\n",
       "    <tr>\n",
       "      <th>max</th>\n",
       "      <td>11.000000</td>\n",
       "    </tr>\n",
       "  </tbody>\n",
       "</table>\n",
       "</div>"
      ],
      "text/plain": [
       "              points\n",
       "count  906014.000000\n",
       "mean        1.331127\n",
       "std         0.807775\n",
       "min         0.000000\n",
       "25%         1.000000\n",
       "50%         1.000000\n",
       "75%         1.000000\n",
       "max        11.000000"
      ]
     },
     "execution_count": 7,
     "metadata": {},
     "output_type": "execute_result"
    }
   ],
   "source": [
    "violations_df.describe()"
   ]
  },
  {
   "cell_type": "markdown",
   "metadata": {},
   "source": [
    "## Analytic Questions\n",
    "\n"
   ]
  },
  {
   "cell_type": "markdown",
   "metadata": {},
   "source": [
    "### Clustering of Scores\n",
    "\n",
    "The relatively high scores listed in the seemed to invite a closer look. I wanted to see if there were any noticable tendencies in how inspections were scored. I tried several bin sizes until it became cleare that 30 best represented the data."
   ]
  },
  {
   "cell_type": "code",
   "execution_count": 8,
   "metadata": {},
   "outputs": [
    {
     "data": {
      "image/png": "[encoded data removed]",
      "text/plain": [
       "<Figure size 432x288 with 1 Axes>"
      ]
     },
     "metadata": {},
     "output_type": "display_data"
    }
   ],
   "source": [
    "# Creating historgram to see how common different scores are.\n",
    "\n",
    "inspect_df[inspect_df['score'] > 70].hist('score', bins=30)\n",
    "plt.show()"
   ]
  },
  {
   "cell_type": "markdown",
   "metadata": {},
   "source": [
    "The first thing that is noticeable is that the vast majority of scores are over 90, but we knew that from the basic summary data. However, we didn't know that there was a big group of inspections with a score of exactly \"90,\" which we can verify by checking for the mode directly. This raises several questions. How does this happen? I verified that there were no violations on file that are valued at exactly 10 points, so this is not caused by a single common violation. The relatively normal appearance of the data from scores 91 to 100 make is seem unlikely that this is simply chance. What could account for this (and for the similar, much smaller bump at 80)? \n",
    "\n",
    "I don't have access to this information, but I would suspect that there are repurcushions for a restaurant when a score drops out of the \"A\" grade range (>= 90). Perhaps they get a notice posted in their window, or they get flagged in online systems. Perhaps rating sites like Yelp remove them from the listing if they are flagged. There may be financial penalties. On the inspector side, a \"B\" or below may necessitate a second visit be added to their already full schedule. This is all conjecture though. The true explanation would require more information.\n"
   ]
  },
  {
   "cell_type": "markdown",
   "metadata": {},
   "source": [
    "### Comparing High Scorers and Low Scorers\n",
    "\n",
    "I was interested in seeing whether restuarants that earned grades of A's on there inspections differed in any identifiable way from those that did poorly. That is, if I saw an \"A\" restaurant, could I assume that they got one type of violation, while \"C\" restaurants tended to get others. To figure this out, I needed to merge the two files to tie the individual violations to the inspections. The inspection serial number provides a key to allow this. Then we can chart the most common violations that they see. For readability, I've just put the violation code on the chart. The codes are listed below.\n",
    "\n",
    "In the most commen violations, it seems that they A's and C's are similar. Problems with floors, walls, and ceilings as well as nonfood contact surfaces are the most common (Violation codes F044, F033, F035). However, then things get interesting. Where the A's have to fine-tune their plumbing (F040), a whole other type of problem pops up in the C's. Their fourth most common violation is F023, which deal with rodents, insects, and animals. Their top five is rounded out with F014: they aren't properly cleaning and sanitizing their food contact surfaces. \n",
    "\n",
    "It is clear that the A's and C's have real differences. In the next section we'll take a closer look at the lower-scoring restaurants."
   ]
  },
  {
   "cell_type": "code",
   "execution_count": 9,
   "metadata": {},
   "outputs": [
    {
     "data": {
      "image/png": "[encoded data removed]",
      "text/plain": [
       "<Figure size 720x360 with 2 Axes>"
      ]
     },
     "metadata": {},
     "output_type": "display_data"
    },
    {
     "data": {
      "text/html": [
       "<div>\n",
       "<style scoped>\n",
       "    .dataframe tbody tr th:only-of-type {\n",
       "        vertical-align: middle;\n",
       "    }\n",
       "\n",
       "    .dataframe tbody tr th {\n",
       "        vertical-align: top;\n",
       "    }\n",
       "\n",
       "    .dataframe thead th {\n",
       "        text-align: right;\n",
       "    }\n",
       "</style>\n",
       "<table border=\"1\" class=\"dataframe\">\n",
       "  <thead>\n",
       "    <tr style=\"text-align: right;\">\n",
       "      <th></th>\n",
       "      <th>violation_description</th>\n",
       "    </tr>\n",
       "    <tr>\n",
       "      <th>violation_code</th>\n",
       "      <th></th>\n",
       "    </tr>\n",
       "  </thead>\n",
       "  <tbody>\n",
       "    <tr>\n",
       "      <th>F044</th>\n",
       "      <td># 44. Floors, walls and ceilings: properly bui...</td>\n",
       "    </tr>\n",
       "    <tr>\n",
       "      <th>F033</th>\n",
       "      <td># 33. Nonfood-contact surfaces clean and in go...</td>\n",
       "    </tr>\n",
       "    <tr>\n",
       "      <th>F035</th>\n",
       "      <td># 35. Equipment/Utensils - approved; installed...</td>\n",
       "    </tr>\n",
       "    <tr>\n",
       "      <th>F040</th>\n",
       "      <td># 40. Plumbing: Plumbing in good repair, prope...</td>\n",
       "    </tr>\n",
       "    <tr>\n",
       "      <th>F036</th>\n",
       "      <td># 36. Equipment, utensils and linens: storage ...</td>\n",
       "    </tr>\n",
       "    <tr>\n",
       "      <th>F023</th>\n",
       "      <td># 23. No rodents, insects, birds, or animals</td>\n",
       "    </tr>\n",
       "    <tr>\n",
       "      <th>F014</th>\n",
       "      <td># 14. Food contact surfaces: clean and sanitized</td>\n",
       "    </tr>\n",
       "  </tbody>\n",
       "</table>\n",
       "</div>"
      ],
      "text/plain": [
       "                                            violation_description\n",
       "violation_code                                                   \n",
       "F044            # 44. Floors, walls and ceilings: properly bui...\n",
       "F033            # 33. Nonfood-contact surfaces clean and in go...\n",
       "F035            # 35. Equipment/Utensils - approved; installed...\n",
       "F040            # 40. Plumbing: Plumbing in good repair, prope...\n",
       "F036            # 36. Equipment, utensils and linens: storage ...\n",
       "F023                 # 23. No rodents, insects, birds, or animals\n",
       "F014             # 14. Food contact surfaces: clean and sanitized"
      ]
     },
     "execution_count": 9,
     "metadata": {},
     "output_type": "execute_result"
    }
   ],
   "source": [
    "# RECOMMEND THAT READER COLLAPSE THIS CELL FOR EASE OF READING\n",
    "\n",
    "# merge files on serial number\n",
    "insp_with_vio = inspect_df.merge(violations_df, how = 'left', on = 'serial_number')\n",
    "grade_violations_df = insp_with_vio\n",
    "\n",
    "category = 'violation_code'\n",
    "\n",
    "plt.figure(figsize=(10, 5))\n",
    " \n",
    "# Create chart of top 5 violations of the A-graded restaurants\n",
    "plt.subplot(121)\n",
    "noted_violations_A = grade_violations_df[grade_violations_df['grade'] == 'A'][category].value_counts() \n",
    "#violation_description gives full name\n",
    "top_violations_A = noted_violations_A[0:5]\n",
    "# I set a single color here because the default color mix varied between the two charts, \n",
    "# resulting in confusion when trying to compare them\n",
    "top_violations_A.plot(kind = 'bar', color = '#abcdef')\n",
    "plt.title('Violations For Grade \\'A\\' Inspections')\n",
    "\n",
    "\n",
    "# Create chart of top 5 violations of the C-graded restaurants\n",
    "plt.subplot(122)\n",
    "noted_violations_C = grade_violations_df[(grade_violations_df['grade'] == 'C')][category].value_counts() \n",
    "#violation_description gives full name\n",
    "top_violations_C = noted_violations_C[0:5]\n",
    "# I set a single color here because the default color mix varied between the two charts, \n",
    "# resulting in confusion when trying to compare them\n",
    "top_violations_C.plot(kind = 'bar', color = '#893346')\n",
    "plt.title('Violations For Grade \\'C\\' Inspections')\n",
    "plt.show()\n",
    "\n",
    "# create df with the violation codes\n",
    "noted_violations = grade_violations_df[(grade_violations_df['grade'] == 'C') | (grade_violations_df['grade'] == 'A')]['violation_code'].value_counts() \n",
    "#violation_description gives full name\n",
    "top_violations = noted_violations[0:13]\n",
    "# print(top_violations.index)\n",
    "top_df = pd.DataFrame(top_violations)\n",
    "common_violations_df = top_df.merge(violations_df, how = 'left', left_index=True, right_on='violation_code'  )\n",
    "\n",
    "# this has multiple entries for each code. Creating new df to clean this up\n",
    "vio_df_single = common_violations_df\n",
    "\n",
    "# Trying to remove duplicate rows based on duplicated violation codes\n",
    "vio_df_single.drop_duplicates(subset='violation_code', keep='first', inplace=True)\n",
    "vio_df_single.head()\n",
    "vio_df_single.columns\n",
    "\n",
    "# Getting rid of unneeded columns\n",
    "del vio_df_single['violation_code_x']\n",
    "del vio_df_single['points']\n",
    "del vio_df_single['serial_number']\n",
    "del vio_df_single['violation_code_y']\n",
    "del vio_df_single['violation_status']\n",
    "\n",
    "vio_df_single.set_index('violation_code', inplace=True)\n",
    "\n",
    "# Table pulls the number of codes needed to encompass all the codes on both charts,\n",
    "# then I limit it to only list those I needed for the chart. \n",
    "\n",
    "vio_df_single.loc[['F044', 'F033', 'F035', 'F040', 'F036', 'F023', 'F014']]\n"
   ]
  },
  {
   "cell_type": "markdown",
   "metadata": {},
   "source": [
    "_______"
   ]
  },
  {
   "cell_type": "markdown",
   "metadata": {},
   "source": [
    "### What do restaurants do to earn low scores ?\n",
    "\n",
    "Having identified that lower graded restaurants are more likely to get lower scores, I wanted to look at some more specifics. I focused on the restaurants with a grade of C. Let's look at them. Is it possible that a restaurant can get flagged with a C from just one violation? Maybe this could be explained away by the restaurant just having a bad day or an inspector overstating a violation\n",
    "\n",
    "There are 682 of them, with a mean score of 74.7. Since we saw earlier that the highest point violation was 11 points, obviously C inspections are not simply coming from one bad score. One score could knock them down to a B, but not a C."
   ]
  },
  {
   "cell_type": "code",
   "execution_count": 11,
   "metadata": {},
   "outputs": [
    {
     "data": {
      "text/html": [
       "<div>\n",
       "<style scoped>\n",
       "    .dataframe tbody tr th:only-of-type {\n",
       "        vertical-align: middle;\n",
       "    }\n",
       "\n",
       "    .dataframe tbody tr th {\n",
       "        vertical-align: top;\n",
       "    }\n",
       "\n",
       "    .dataframe thead th {\n",
       "        text-align: right;\n",
       "    }\n",
       "</style>\n",
       "<table border=\"1\" class=\"dataframe\">\n",
       "  <thead>\n",
       "    <tr style=\"text-align: right;\">\n",
       "      <th></th>\n",
       "      <th>program_element_pe</th>\n",
       "      <th>score</th>\n",
       "      <th>service_code</th>\n",
       "    </tr>\n",
       "  </thead>\n",
       "  <tbody>\n",
       "    <tr>\n",
       "      <th>count</th>\n",
       "      <td>682.000000</td>\n",
       "      <td>682.000000</td>\n",
       "      <td>682.000000</td>\n",
       "    </tr>\n",
       "    <tr>\n",
       "      <th>mean</th>\n",
       "      <td>1632.583578</td>\n",
       "      <td>74.674487</td>\n",
       "      <td>4.519062</td>\n",
       "    </tr>\n",
       "    <tr>\n",
       "      <th>std</th>\n",
       "      <td>7.262413</td>\n",
       "      <td>2.567084</td>\n",
       "      <td>37.380338</td>\n",
       "    </tr>\n",
       "    <tr>\n",
       "      <th>min</th>\n",
       "      <td>1610.000000</td>\n",
       "      <td>70.000000</td>\n",
       "      <td>1.000000</td>\n",
       "    </tr>\n",
       "    <tr>\n",
       "      <th>25%</th>\n",
       "      <td>1632.000000</td>\n",
       "      <td>73.000000</td>\n",
       "      <td>1.000000</td>\n",
       "    </tr>\n",
       "    <tr>\n",
       "      <th>50%</th>\n",
       "      <td>1635.000000</td>\n",
       "      <td>75.000000</td>\n",
       "      <td>1.000000</td>\n",
       "    </tr>\n",
       "    <tr>\n",
       "      <th>75%</th>\n",
       "      <td>1638.000000</td>\n",
       "      <td>77.000000</td>\n",
       "      <td>1.000000</td>\n",
       "    </tr>\n",
       "    <tr>\n",
       "      <th>max</th>\n",
       "      <td>1641.000000</td>\n",
       "      <td>79.000000</td>\n",
       "      <td>401.000000</td>\n",
       "    </tr>\n",
       "  </tbody>\n",
       "</table>\n",
       "</div>"
      ],
      "text/plain": [
       "       program_element_pe       score  service_code\n",
       "count          682.000000  682.000000    682.000000\n",
       "mean          1632.583578   74.674487      4.519062\n",
       "std              7.262413    2.567084     37.380338\n",
       "min           1610.000000   70.000000      1.000000\n",
       "25%           1632.000000   73.000000      1.000000\n",
       "50%           1635.000000   75.000000      1.000000\n",
       "75%           1638.000000   77.000000      1.000000\n",
       "max           1641.000000   79.000000    401.000000"
      ]
     },
     "execution_count": 11,
     "metadata": {},
     "output_type": "execute_result"
    }
   ],
   "source": [
    "inspect_df[inspect_df['grade'] == 'C'].describe()"
   ]
  },
  {
   "cell_type": "markdown",
   "metadata": {},
   "source": [
    "What are the 11 point violations? As we see below, The vast majority are cases of the inspector finding rodents, insects, or animals (violation code F023). However, looking at even a few cases of F023 violations in C inspections, we can see that not every F023 is an 11-point violation. The inspection allows for a smaller penalty, even as low as two points. A big violation indicates an egregious violation."
   ]
  },
  {
   "cell_type": "code",
   "execution_count": 26,
   "metadata": {},
   "outputs": [
    {
     "data": {
      "text/html": [
       "<div>\n",
       "<style scoped>\n",
       "    .dataframe tbody tr th:only-of-type {\n",
       "        vertical-align: middle;\n",
       "    }\n",
       "\n",
       "    .dataframe tbody tr th {\n",
       "        vertical-align: top;\n",
       "    }\n",
       "\n",
       "    .dataframe thead tr th {\n",
       "        text-align: left;\n",
       "    }\n",
       "\n",
       "    .dataframe thead tr:last-of-type th {\n",
       "        text-align: right;\n",
       "    }\n",
       "</style>\n",
       "<table border=\"1\" class=\"dataframe\">\n",
       "  <thead>\n",
       "    <tr>\n",
       "      <th></th>\n",
       "      <th colspan=\"8\" halign=\"left\">points</th>\n",
       "    </tr>\n",
       "    <tr>\n",
       "      <th></th>\n",
       "      <th>count</th>\n",
       "      <th>mean</th>\n",
       "      <th>std</th>\n",
       "      <th>min</th>\n",
       "      <th>25%</th>\n",
       "      <th>50%</th>\n",
       "      <th>75%</th>\n",
       "      <th>max</th>\n",
       "    </tr>\n",
       "    <tr>\n",
       "      <th>violation_description</th>\n",
       "      <th></th>\n",
       "      <th></th>\n",
       "      <th></th>\n",
       "      <th></th>\n",
       "      <th></th>\n",
       "      <th></th>\n",
       "      <th></th>\n",
       "      <th></th>\n",
       "    </tr>\n",
       "  </thead>\n",
       "  <tbody>\n",
       "    <tr>\n",
       "      <th># 21b. Water available</th>\n",
       "      <td>17.0</td>\n",
       "      <td>11.0</td>\n",
       "      <td>0.0</td>\n",
       "      <td>11.0</td>\n",
       "      <td>11.0</td>\n",
       "      <td>11.0</td>\n",
       "      <td>11.0</td>\n",
       "      <td>11.0</td>\n",
       "    </tr>\n",
       "    <tr>\n",
       "      <th># 22. Sewage and wastewater properly disposed</th>\n",
       "      <td>84.0</td>\n",
       "      <td>11.0</td>\n",
       "      <td>0.0</td>\n",
       "      <td>11.0</td>\n",
       "      <td>11.0</td>\n",
       "      <td>11.0</td>\n",
       "      <td>11.0</td>\n",
       "      <td>11.0</td>\n",
       "    </tr>\n",
       "    <tr>\n",
       "      <th># 23. No rodents, insects, birds, or animals</th>\n",
       "      <td>1008.0</td>\n",
       "      <td>11.0</td>\n",
       "      <td>0.0</td>\n",
       "      <td>11.0</td>\n",
       "      <td>11.0</td>\n",
       "      <td>11.0</td>\n",
       "      <td>11.0</td>\n",
       "      <td>11.0</td>\n",
       "    </tr>\n",
       "  </tbody>\n",
       "</table>\n",
       "</div>"
      ],
      "text/plain": [
       "                                               points                         \\\n",
       "                                                count  mean  std   min   25%   \n",
       "violation_description                                                          \n",
       "# 21b. Water available                           17.0  11.0  0.0  11.0  11.0   \n",
       "# 22. Sewage and wastewater properly disposed    84.0  11.0  0.0  11.0  11.0   \n",
       "# 23. No rodents, insects, birds, or animals   1008.0  11.0  0.0  11.0  11.0   \n",
       "\n",
       "                                                                 \n",
       "                                                50%   75%   max  \n",
       "violation_description                                            \n",
       "# 21b. Water available                         11.0  11.0  11.0  \n",
       "# 22. Sewage and wastewater properly disposed  11.0  11.0  11.0  \n",
       "# 23. No rodents, insects, birds, or animals   11.0  11.0  11.0  "
      ]
     },
     "execution_count": 26,
     "metadata": {},
     "output_type": "execute_result"
    }
   ],
   "source": [
    "# all the violation that were given 11 points.\n",
    "\n",
    "violations_df[violations_df['points'] == 11].groupby('violation_description').describe()"
   ]
  },
  {
   "cell_type": "code",
   "execution_count": 27,
   "metadata": {},
   "outputs": [
    {
     "data": {
      "text/plain": [
       "335       4.0\n",
       "2006     11.0\n",
       "3435      2.0\n",
       "4310      2.0\n",
       "6814      2.0\n",
       "7223     11.0\n",
       "10382    11.0\n",
       "11231     2.0\n",
       "11279    11.0\n",
       "12174    11.0\n",
       "17295    11.0\n",
       "21315    11.0\n",
       "23458     2.0\n",
       "23488     4.0\n",
       "24373     4.0\n",
       "Name: points, dtype: float64"
      ]
     },
     "execution_count": 27,
     "metadata": {},
     "output_type": "execute_result"
    }
   ],
   "source": [
    "# Sampling of C's with F023 violations, demonstrating that they are not automatically 11 points\n",
    "insp_with_vio[(insp_with_vio['grade'] == 'C') & (insp_with_vio['violation_code'] == 'F023')]['points'].head(15)"
   ]
  },
  {
   "cell_type": "markdown",
   "metadata": {},
   "source": [
    "#### These inspections are not a fluke.\n",
    "\n",
    "As we can see, if a restaurant gets a low score, they must have a few violations, or at least two very serious ones. Also, as we saw in the first question, there is even a small clustering at 80 points, indicating that inspectors make some effort to avoid giving out a C grade or lower. One can confidently say that a C grade reflects a restaurant having multiple, serious issues.\n",
    "_______"
   ]
  },
  {
   "cell_type": "markdown",
   "metadata": {},
   "source": [
    "## Further Research"
   ]
  },
  {
   "cell_type": "markdown",
   "metadata": {},
   "source": [
    "Analyzing this data has shown several interesting points, but it invites several more questions. \n",
    "\n",
    "It would be interesting to see if scores are related to location. The current data include ZIP codes, but more exact info could be found from mapping the addresses. It would be interesting to see if low/high scores were tied to specific areas of town. If so, this could invite investigation as to the cause. Are certain areas being \"picked on?\" Are there areas with more pests, more moisture, or other environmental issues that could explain this?  \n",
    "\n",
    "The data doesn't currently indicate anything about building age. Does having an older facitily make a restaurant likely to get lower scores? What about the age of the the city infrustructure serving the site, such as sewers or electrical services. Should a restaurant be punished if they are in a poorly-served area? Could owners be forewarned that they need to account for these types of things before they are inspected?\n",
    "\n",
    "Another thing that would be interesting to look at is whether certain factors can be used to predict specific violations. Some seem obvious. If you inspect a place and see food all over the floor, it is no mystery that they might have pests. What I'd like to find out is if there are some unexpected correlations. Does a plumbing problem predict a lack of cleaning supplies? Do broken windows increase the likelyhood that there are poorly maintained refrigerators? I don't know, but I can certainly can see how finding some of these correlations woud help an inspector be alerted to potential problems.\n",
    "\n"
   ]
  },
  {
   "cell_type": "code",
   "execution_count": null,
   "metadata": {},
   "outputs": [],
   "source": []
  }
 ],
 "metadata": {
  "kernelspec": {
   "display_name": "Python 3",
   "language": "python",
   "name": "python3"
  },
  "language_info": {
   "codemirror_mode": {
    "name": "ipython",
    "version": 3
   },
   "file_extension": ".py",
   "mimetype": "text/x-python",
   "name": "python",
   "nbconvert_exporter": "python",
   "pygments_lexer": "ipython3",
   "version": "3.6.5"
  }
 },
 "nbformat": 4,
 "nbformat_minor": 2
}
